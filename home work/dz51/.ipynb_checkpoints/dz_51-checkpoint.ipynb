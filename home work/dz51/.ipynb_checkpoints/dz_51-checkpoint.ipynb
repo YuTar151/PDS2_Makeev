{
 "cells": [
  {
   "cell_type": "markdown",
   "id": "0ffedb38",
   "metadata": {},
   "source": [
    "### Завдання\n",
    "До пункту видачі надійшли вироби з такими характеристиками: Всього виробів - 13000 одиниць, з них виготовлено на першому заводі -8000 од., вагою 13 кг., зі стандартним відхиленням по вазі 0.5 кг.. На другому - 5000 од., вагою 12 кг., зі стандартним відхиленням по вазі 0.7 кг. Доля якісних виробів, вироблених на першому заводі, становить 0.85. Доля якісних виробів, вироблених На другому заводі 0,8.\n",
    "#### Завдання:\n",
    "- Написати код, з використанням ЕМ-алгоритму, для визначення ймовірності, на якому заводі був вироблений виріб."
   ]
  },
  {
   "cell_type": "code",
   "execution_count": 11,
   "id": "cf04b329",
   "metadata": {},
   "outputs": [],
   "source": [
    "import numpy as np\n",
    "from scipy.stats import norm"
   ]
  },
  {
   "cell_type": "code",
   "execution_count": 16,
   "id": "03c6ac11",
   "metadata": {},
   "outputs": [],
   "source": [
    "n = 13000\n",
    "n1 = 8000\n",
    "n2 = 5000\n",
    "\n",
    "mu1 = 13\n",
    "mu2 = 12\n",
    "\n",
    "sigma1 = 0.5\n",
    "sigma2 = 0.7\n",
    "\n",
    "p1 = 0.85\n",
    "p2 = 0.8\n",
    "\n",
    "x1 = np.random.normal(mu1, sigma1, n1)\n",
    "x2 = np.random.normal(mu2, sigma2, n2)\n",
    "\n",
    "def em_algorithm(n, n1, n2, mu1, mu2, sigma1, sigma2, p1, p2, max_iterations=1000, tolerance=1e-4):    \n",
    "    mu1_hat = mu1\n",
    "    mu2_hat = mu2\n",
    "    sigma1_hat = sigma1\n",
    "    sigma2_hat = sigma2\n",
    "    p1_hat = p1\n",
    "    p2_hat = p2\n",
    "\n",
    "    # Ітерації ЕМ-алгоритму\n",
    "    for i in range(max_iterations):       \n",
    "        E1 = norm(mu1_hat, sigma1_hat).pdf(x) * p1_hat\n",
    "        E2 = norm(mu2_hat, sigma2_hat).pdf(x) * p2_hat\n",
    "        W1 = E1 / (E1 + E2)\n",
    "        W2 = E2 / (E1 + E2)\n",
    "\n",
    "        # Максимізація параметрів\n",
    "        n1_hat = np.sum(W1)\n",
    "        n2_hat = np.sum(W2)\n",
    "        mu1_hat = np.sum(W1 * x) / n1_hat\n",
    "        mu2_hat = np.sum(W2 * x) / n2_hat\n",
    "        sigma1_hat = np.sqrt(np.sum(W1 * (x - mu1_hat) ** 2) / n1_hat)\n",
    "        sigma2_hat = np.sqrt(np.sum(W2 * (x - mu2_hat) ** 2) / n2_hat)\n",
    "        p1_hat = n1_hat / n\n",
    "        p2_hat = n2_hat / n\n",
    "       \n",
    "    \n",
    "        if abs(mu1_hat - mu1) < tolerance and abs(mu2_hat - mu2) < tolerance and \\\n",
    "                abs(sigma1_hat - sigma1) < tolerance and abs(sigma2_hat - sigma2) < tolerance and \\\n",
    "                abs(p1_hat - p1) < tolerance and abs(p2_hat - p2) < tolerance:\n",
    "            break\n",
    "\n",
    "    # Повертаємо ймовірності належності до кожного з заводів\n",
    "    return p1_hat, p2_hat"
   ]
  },
  {
   "cell_type": "code",
   "execution_count": 17,
   "id": "d6673ae7",
   "metadata": {},
   "outputs": [
    {
     "name": "stdout",
     "output_type": "stream",
     "text": [
      "Ймовірність належності до першого заводу: 0.5515\n",
      "Ймовірність належності до другого заводу: 0.4485\n"
     ]
    }
   ],
   "source": [
    "x = np.concatenate((x1, x2))\n",
    "p1_hat, p2_hat = em_algorithm(n, n1, n2, mu1, mu2, sigma1, sigma2, p1, p2)\n",
    "print(\"Ймовірність належності до першого заводу: {:.4f}\".format(p1_hat))\n",
    "print(\"Ймовірність належності до другого заводу: {:.4f}\".format(p2_hat))"
   ]
  },
  {
   "cell_type": "code",
   "execution_count": null,
   "id": "81115b34",
   "metadata": {},
   "outputs": [],
   "source": []
  }
 ],
 "metadata": {
  "kernelspec": {
   "display_name": "Python 3 (ipykernel)",
   "language": "python",
   "name": "python3"
  },
  "language_info": {
   "codemirror_mode": {
    "name": "ipython",
    "version": 3
   },
   "file_extension": ".py",
   "mimetype": "text/x-python",
   "name": "python",
   "nbconvert_exporter": "python",
   "pygments_lexer": "ipython3",
   "version": "3.11.2"
  }
 },
 "nbformat": 4,
 "nbformat_minor": 5
}
