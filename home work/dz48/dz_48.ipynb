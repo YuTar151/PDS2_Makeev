{
 "cells": [
  {
   "cell_type": "markdown",
   "source": [
    "Застосуйте описані в лекції методи трансформації даних на датасеті Data_to_Transform, що міститься на GitHub в папці лекції. Цей датасет містить чотири колонки, що відповідають:\n",
    "1. помірно зміщеним вправо даним (Moderate Positive Skew)\n",
    "2. сильно зміщеним вправо даним (Highly Positive Skew)\n",
    "3. помірно зміщеним вліво даним (Moderate Negative Skew)\n",
    "4. сильно зміщеним вліво даним (Highly Negative Skew)\n",
    "Оцініть результати трансформацій через квантильно-квантильні графіки."
   ],
   "metadata": {
    "collapsed": false
   }
  },
  {
   "cell_type": "code",
   "execution_count": null,
   "outputs": [],
   "source": [],
   "metadata": {
    "collapsed": false
   }
  }
 ],
 "metadata": {
  "kernelspec": {
   "display_name": "Python 3",
   "language": "python",
   "name": "python3"
  },
  "language_info": {
   "codemirror_mode": {
    "name": "ipython",
    "version": 2
   },
   "file_extension": ".py",
   "mimetype": "text/x-python",
   "name": "python",
   "nbconvert_exporter": "python",
   "pygments_lexer": "ipython2",
   "version": "2.7.6"
  }
 },
 "nbformat": 4,
 "nbformat_minor": 0
}
