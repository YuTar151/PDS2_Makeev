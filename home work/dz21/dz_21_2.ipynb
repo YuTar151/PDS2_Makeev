{
 "cells": [
  {
   "cell_type": "markdown",
   "id": "1216d807",
   "metadata": {},
   "source": [
    "#### Напишіть код, який здійснює процес перетворення матриці, наведений у прикладі з презентації. Роботу виконати у середовищі Jupyter Notebook.\n"
   ]
  },
  {
   "cell_type": "code",
   "execution_count": 1,
   "id": "2d5f3c47",
   "metadata": {},
   "outputs": [
    {
     "name": "stdout",
     "output_type": "stream",
     "text": [
      "transposed_matrix:\n",
      "[[ 7  0  0  0  0]\n",
      " [ 0  0  0  0  0]\n",
      " [ 8  1  0  0  0]\n",
      " [ 8  3 -3  0  0]\n",
      " [ 8  5  5  0  0]]\n"
     ]
    }
   ],
   "source": [
    "import numpy as np\n",
    "\n",
    "matrix = [[7, 0, 8, 8, 8],\n",
    "          [0, 0, 1, 3, 5],\n",
    "          [0, 0, 0, -3, 5],\n",
    "          [0, 0, 0, 0, 0],\n",
    "          [0, 0, 0, 0, 0]]\n",
    "\n",
    "transposed_matrix = np.transpose(matrix)\n",
    "print(f\"transposed_matrix:\\n{transposed_matrix}\")"
   ]
  },
  {
   "cell_type": "code",
   "execution_count": null,
   "id": "745dcc73",
   "metadata": {},
   "outputs": [],
   "source": []
  }
 ],
 "metadata": {
  "kernelspec": {
   "display_name": "Python 3 (ipykernel)",
   "language": "python",
   "name": "python3"
  },
  "language_info": {
   "codemirror_mode": {
    "name": "ipython",
    "version": 3
   },
   "file_extension": ".py",
   "mimetype": "text/x-python",
   "name": "python",
   "nbconvert_exporter": "python",
   "pygments_lexer": "ipython3",
   "version": "3.10.9"
  }
 },
 "nbformat": 4,
 "nbformat_minor": 5
}
