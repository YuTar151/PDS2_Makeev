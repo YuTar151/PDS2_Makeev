{
 "cells": [
  {
   "cell_type": "markdown",
   "id": "3b89c8d4",
   "metadata": {},
   "source": [
    "### 1. Проведіть крос-валідацію для моделі, побудованої на основі датафрейму student_scores з попереднього завдання. Обґрунтуйте обраний метод крос-валідації."
   ]
  },
  {
   "cell_type": "code",
   "execution_count": 12,
   "id": "77749843",
   "metadata": {},
   "outputs": [],
   "source": [
    "import pandas as pd\n",
    "import numpy as np\n",
    "from sklearn.model_selection import KFold, StratifiedKFold, cross_val_score\n",
    "from sklearn import linear_model, tree, ensemble\n",
    "from sklearn.linear_model import LinearRegression"
   ]
  },
  {
   "cell_type": "code",
   "execution_count": 16,
   "id": "c85526ad",
   "metadata": {},
   "outputs": [
    {
     "data": {
      "text/html": [
       "<div>\n",
       "<style scoped>\n",
       "    .dataframe tbody tr th:only-of-type {\n",
       "        vertical-align: middle;\n",
       "    }\n",
       "\n",
       "    .dataframe tbody tr th {\n",
       "        vertical-align: top;\n",
       "    }\n",
       "\n",
       "    .dataframe thead th {\n",
       "        text-align: right;\n",
       "    }\n",
       "</style>\n",
       "<table border=\"1\" class=\"dataframe\">\n",
       "  <thead>\n",
       "    <tr style=\"text-align: right;\">\n",
       "      <th></th>\n",
       "      <th>Hours</th>\n",
       "      <th>Scores</th>\n",
       "    </tr>\n",
       "  </thead>\n",
       "  <tbody>\n",
       "    <tr>\n",
       "      <th>0</th>\n",
       "      <td>2.5</td>\n",
       "      <td>21</td>\n",
       "    </tr>\n",
       "    <tr>\n",
       "      <th>1</th>\n",
       "      <td>5.1</td>\n",
       "      <td>47</td>\n",
       "    </tr>\n",
       "    <tr>\n",
       "      <th>2</th>\n",
       "      <td>3.2</td>\n",
       "      <td>27</td>\n",
       "    </tr>\n",
       "    <tr>\n",
       "      <th>3</th>\n",
       "      <td>8.5</td>\n",
       "      <td>75</td>\n",
       "    </tr>\n",
       "    <tr>\n",
       "      <th>4</th>\n",
       "      <td>3.5</td>\n",
       "      <td>30</td>\n",
       "    </tr>\n",
       "  </tbody>\n",
       "</table>\n",
       "</div>"
      ],
      "text/plain": [
       "   Hours  Scores\n",
       "0    2.5      21\n",
       "1    5.1      47\n",
       "2    3.2      27\n",
       "3    8.5      75\n",
       "4    3.5      30"
      ]
     },
     "execution_count": 16,
     "metadata": {},
     "output_type": "execute_result"
    }
   ],
   "source": [
    "df = pd.read_csv('student_scores.csv')\n",
    "df.head()"
   ]
  },
  {
   "cell_type": "code",
   "execution_count": 15,
   "id": "e5fa0bc1",
   "metadata": {},
   "outputs": [
    {
     "name": "stdout",
     "output_type": "stream",
     "text": [
      "R^2 для кожної частини:  [0.78626426 0.97891923 0.93182467 0.96604831 0.9273292 ]\n",
      "Середнє значення R^2:  0.9180771341891051\n"
     ]
    }
   ],
   "source": [
    "x = df['Hours'].values.reshape(-1, 1)\n",
    "y = df['Scores'].values.reshape(-1, 1)\n",
    "\n",
    "regressor = LinearRegression()\n",
    "\n",
    "scores = cross_val_score(regressor, x, y, cv=5, scoring='r2')\n",
    "\n",
    "print('R^2 для кожної частини: ', scores)\n",
    "print('Середнє значення R^2: ', scores.mean())"
   ]
  },
  {
   "cell_type": "markdown",
   "id": "12246139",
   "metadata": {},
   "source": [
    "Метод K-Fold був обраний, тому що він є простим та надійним методом крос-валідації, який дозволяє отримати більш надійну оцінку якості моделі, ніж простий поділ набору даних на навчальну та тестову вибірки. Крім того, цей метод дозволяє використовувати весь набір даних для навчання та тестування моделі, що особливо важливо, коли набір даних невеликий."
   ]
  },
  {
   "cell_type": "markdown",
   "id": "c6f3f97a",
   "metadata": {},
   "source": [
    "### 2. Проведіть крос-валідацію для моделі, побудованої на основі датафрейму petrol_consumption з попереднього завдання. Обґрунтуйте обраний метод крос-валідації."
   ]
  },
  {
   "cell_type": "code",
   "execution_count": 35,
   "id": "e2584274",
   "metadata": {},
   "outputs": [],
   "source": [
    "from sklearn.model_selection import train_test_split\n",
    "from sklearn.model_selection import ShuffleSplit\n",
    "from sklearn.metrics import mean_squared_error"
   ]
  },
  {
   "cell_type": "code",
   "execution_count": 36,
   "id": "a83488c2",
   "metadata": {},
   "outputs": [],
   "source": [
    "df = pd.read_csv('petrol_consumption.csv')"
   ]
  },
  {
   "cell_type": "code",
   "execution_count": 37,
   "id": "05fa4559",
   "metadata": {},
   "outputs": [],
   "source": [
    "X = df.iloc[:, :-1].values\n",
    "y = df.iloc[:, -1].values\n",
    "\n",
    "X_train, X_test, y_train, y_test = train_test_split(X, y, test_size=0.6, random_state=0)"
   ]
  },
  {
   "cell_type": "code",
   "execution_count": 39,
   "id": "0e19f393",
   "metadata": {},
   "outputs": [
    {
     "name": "stdout",
     "output_type": "stream",
     "text": [
      "Коефіцієнти регресії: [-3.22104801e+01 -6.40766613e-02 -1.15783324e-03  1.28326603e+03]\n",
      "MSE: 9855.816894719293\n",
      "Коефіцієнти регресії: [-3.42662380e+01 -6.22290433e-02 -2.40142185e-03  1.37710758e+03]\n",
      "MSE: 1804.245519965763\n",
      "Коефіцієнти регресії: [-4.07145927e+01 -7.15112618e-02 -1.84354122e-03  1.31741603e+03]\n",
      "MSE: 3407.8737371232032\n",
      "Коефіцієнти регресії: [-2.68539462e+01 -5.67722849e-02 -4.28180788e-04  1.44101197e+03]\n",
      "MSE: 4120.425773607538\n",
      "Коефіцієнти регресії: [-4.19759449e+01 -7.47079139e-02 -4.39619378e-03  1.32711262e+03]\n",
      "MSE: 5291.105188504086\n",
      "Середнє значення MSE: 4895.893422783976\n"
     ]
    }
   ],
   "source": [
    "n_splits = 5\n",
    "test_size = 0.2\n",
    "shuffle_split = ShuffleSplit(n_splits=n_splits, test_size=test_size)\n",
    "\n",
    "mse_scores = np.zeros(n_splits)\n",
    "\n",
    "for i, (train_index, test_index) in enumerate(shuffle_split.split(X)):\n",
    "    X_train, X_test = X[train_index], X[test_index]\n",
    "    y_train, y_test = y[train_index], y[test_index]\n",
    "    \n",
    "    regressor = LinearRegression()\n",
    "    regressor.fit(X_train, y_train)\n",
    "    \n",
    "    coefficients = regressor.coef_\n",
    "    print('Коефіцієнти регресії:', coefficients)\n",
    "    \n",
    "    y_pred = regressor.predict(X_test)\n",
    "    mse = mean_squared_error(y_test.reshape(-1, 1), y_pred.reshape(-1, 1))\n",
    "    mse_scores[i] = mse\n",
    "    print('MSE:', mse)\n",
    "\n",
    "print('Середнє значення MSE:', np.mean(mse_scores))"
   ]
  },
  {
   "cell_type": "markdown",
   "id": "15156e29",
   "metadata": {},
   "source": [
    "Метод ShuffleSplit є простим та зручним способом оцінити ефективність моделі, дозволяючи використовувати більше даних та налаштовувати параметри розбиття в залежності від потреб користувача. "
   ]
  },
  {
   "cell_type": "code",
   "execution_count": null,
   "id": "424ca2ee",
   "metadata": {},
   "outputs": [],
   "source": []
  }
 ],
 "metadata": {
  "kernelspec": {
   "display_name": "Python 3 (ipykernel)",
   "language": "python",
   "name": "python3"
  },
  "language_info": {
   "codemirror_mode": {
    "name": "ipython",
    "version": 3
   },
   "file_extension": ".py",
   "mimetype": "text/x-python",
   "name": "python",
   "nbconvert_exporter": "python",
   "pygments_lexer": "ipython3",
   "version": "3.11.2"
  }
 },
 "nbformat": 4,
 "nbformat_minor": 5
}
