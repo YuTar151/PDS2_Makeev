{
 "cells": [
  {
   "cell_type": "markdown",
   "id": "6b5558ee",
   "metadata": {},
   "source": [
    "### 1. Проведіть крос-валідацію для моделі, побудованої на основі датафрейму student_scores з попереднього завдання. Обґрунтуйте обраний метод крос-валідації."
   ]
  },
  {
   "cell_type": "code",
   "execution_count": 12,
   "id": "a928844b",
   "metadata": {},
   "outputs": [],
   "source": [
    "import pandas as pd\n",
    "import numpy as np\n",
    "from sklearn.model_selection import KFold, StratifiedKFold, cross_val_score\n",
    "from sklearn import linear_model, tree, ensemble\n",
    "from sklearn.linear_model import LinearRegression"
   ]
  },
  {
   "cell_type": "code",
   "execution_count": 16,
   "id": "4f46f9cc",
   "metadata": {},
   "outputs": [
    {
     "data": {
      "text/html": [
       "<div>\n",
       "<style scoped>\n",
       "    .dataframe tbody tr th:only-of-type {\n",
       "        vertical-align: middle;\n",
       "    }\n",
       "\n",
       "    .dataframe tbody tr th {\n",
       "        vertical-align: top;\n",
       "    }\n",
       "\n",
       "    .dataframe thead th {\n",
       "        text-align: right;\n",
       "    }\n",
       "</style>\n",
       "<table border=\"1\" class=\"dataframe\">\n",
       "  <thead>\n",
       "    <tr style=\"text-align: right;\">\n",
       "      <th></th>\n",
       "      <th>Hours</th>\n",
       "      <th>Scores</th>\n",
       "    </tr>\n",
       "  </thead>\n",
       "  <tbody>\n",
       "    <tr>\n",
       "      <th>0</th>\n",
       "      <td>2.5</td>\n",
       "      <td>21</td>\n",
       "    </tr>\n",
       "    <tr>\n",
       "      <th>1</th>\n",
       "      <td>5.1</td>\n",
       "      <td>47</td>\n",
       "    </tr>\n",
       "    <tr>\n",
       "      <th>2</th>\n",
       "      <td>3.2</td>\n",
       "      <td>27</td>\n",
       "    </tr>\n",
       "    <tr>\n",
       "      <th>3</th>\n",
       "      <td>8.5</td>\n",
       "      <td>75</td>\n",
       "    </tr>\n",
       "    <tr>\n",
       "      <th>4</th>\n",
       "      <td>3.5</td>\n",
       "      <td>30</td>\n",
       "    </tr>\n",
       "  </tbody>\n",
       "</table>\n",
       "</div>"
      ],
      "text/plain": [
       "   Hours  Scores\n",
       "0    2.5      21\n",
       "1    5.1      47\n",
       "2    3.2      27\n",
       "3    8.5      75\n",
       "4    3.5      30"
      ]
     },
     "execution_count": 16,
     "metadata": {},
     "output_type": "execute_result"
    }
   ],
   "source": [
    "df = pd.read_csv('student_scores.csv')\n",
    "df.head()"
   ]
  },
  {
   "cell_type": "code",
   "execution_count": 15,
   "id": "7467b732",
   "metadata": {},
   "outputs": [
    {
     "name": "stdout",
     "output_type": "stream",
     "text": [
      "R^2 для кожної частини:  [0.78626426 0.97891923 0.93182467 0.96604831 0.9273292 ]\n",
      "Середнє значення R^2:  0.9180771341891051\n"
     ]
    }
   ],
   "source": [
    "x = df['Hours'].values.reshape(-1, 1)\n",
    "y = df['Scores'].values.reshape(-1, 1)\n",
    "\n",
    "regressor = LinearRegression()\n",
    "\n",
    "scores = cross_val_score(regressor, x, y, cv=5, scoring='r2')\n",
    "\n",
    "print('R^2 для кожної частини: ', scores)\n",
    "print('Середнє значення R^2: ', scores.mean())"
   ]
  },
  {
   "cell_type": "markdown",
   "id": "742a09e7",
   "metadata": {},
   "source": [
    "Метод K-Fold був обраний, тому що він є простим та надійним методом крос-валідації, який дозволяє отримати більш надійну оцінку якості моделі, ніж простий поділ набору даних на навчальну та тестову вибірки. Крім того, цей метод дозволяє використовувати весь набір даних для навчання та тестування моделі, що особливо важливо, коли набір даних невеликий."
   ]
  },
  {
   "cell_type": "markdown",
   "id": "3479b722",
   "metadata": {},
   "source": [
    "### 2. Проведіть крос-валідацію для моделі, побудованої на основі датафрейму petrol_consumption з попереднього завдання. Обґрунтуйте обраний метод крос-валідації."
   ]
  },
  {
   "cell_type": "code",
   "execution_count": 40,
   "id": "332b3337",
   "metadata": {},
   "outputs": [],
   "source": [
    "from sklearn.model_selection import train_test_split\n",
    "from sklearn.model_selection import ShuffleSplit\n",
    "from sklearn.metrics import mean_squared_error"
   ]
  },
  {
   "cell_type": "code",
   "execution_count": 41,
   "id": "18ee3803",
   "metadata": {},
   "outputs": [],
   "source": [
    "df = pd.read_csv('petrol_consumption.csv')"
   ]
  },
  {
   "cell_type": "code",
   "execution_count": 42,
   "id": "b640fe20",
   "metadata": {},
   "outputs": [],
   "source": [
    "X = df.iloc[:, :-1].values\n",
    "y = df.iloc[:, -1].values\n",
    "\n",
    "X_train, X_test, y_train, y_test = train_test_split(X, y, test_size=0.6, random_state=0)"
   ]
  },
  {
   "cell_type": "code",
   "execution_count": 43,
   "id": "03a9032a",
   "metadata": {},
   "outputs": [
    {
     "name": "stdout",
     "output_type": "stream",
     "text": [
      "Коефіцієнти регресії: [-3.65157327e+01 -5.08801080e-02 -4.64434708e-03  1.33352309e+03]\n",
      "MSE: 4735.558292230527\n",
      "Коефіцієнти регресії: [-3.51357162e+01 -7.09171149e-02 -1.71436022e-03  1.36507656e+03]\n",
      "MSE: 2520.37371252262\n",
      "Коефіцієнти регресії: [-2.89331606e+01 -8.20088084e-02 -9.80534058e-04  1.32762312e+03]\n",
      "MSE: 8566.201557337334\n",
      "Коефіцієнти регресії: [-4.66620669e+01 -5.79381998e-02 -5.51330790e-03  1.24234587e+03]\n",
      "MSE: 4422.891517844075\n",
      "Коефіцієнти регресії: [-2.80605343e+01 -5.91659438e-02 -2.68037514e-04  1.24357014e+03]\n",
      "MSE: 9273.647706015063\n",
      "Середнє значення MSE: 5903.734557189923\n"
     ]
    }
   ],
   "source": [
    "n_splits = 5\n",
    "test_size = 0.2\n",
    "shuffle_split = ShuffleSplit(n_splits=n_splits, test_size=test_size)\n",
    "\n",
    "mse_scores = np.zeros(n_splits)\n",
    "\n",
    "for i, (train_index, test_index) in enumerate(shuffle_split.split(X)):\n",
    "    X_train, X_test = X[train_index], X[test_index]\n",
    "    y_train, y_test = y[train_index], y[test_index]\n",
    "    \n",
    "    regressor = LinearRegression()\n",
    "    regressor.fit(X_train, y_train)\n",
    "    \n",
    "    coefficients = regressor.coef_\n",
    "    print('Коефіцієнти регресії:', coefficients)\n",
    "    \n",
    "    y_pred = regressor.predict(X_test)\n",
    "    mse = mean_squared_error(y_test.reshape(-1, 1), y_pred.reshape(-1, 1))\n",
    "    mse_scores[i] = mse\n",
    "    print('MSE:', mse)\n",
    "\n",
    "print('Середнє значення MSE:', np.mean(mse_scores))"
   ]
  },
  {
   "cell_type": "markdown",
   "id": "692261e5",
   "metadata": {},
   "source": [
    "Метод ShuffleSplit є простим та зручним способом оцінити ефективність моделі, дозволяючи використовувати більше даних та налаштовувати параметри розбиття в залежності від потреб користувача. \n",
    "\n",
    "Переваги методу ShuffleSplit полягають у тому, що він здатний більш точно оцінити ефективність моделі в порівнянні з традиційним методом крос-валідації з використанням фіксованого розбиття на навчальні та тестові множини. "
   ]
  },
  {
   "cell_type": "code",
   "execution_count": null,
   "id": "dbcb1bd8",
   "metadata": {},
   "outputs": [],
   "source": []
  }
 ],
 "metadata": {
  "kernelspec": {
   "display_name": "Python 3 (ipykernel)",
   "language": "python",
   "name": "python3"
  },
  "language_info": {
   "codemirror_mode": {
    "name": "ipython",
    "version": 3
   },
   "file_extension": ".py",
   "mimetype": "text/x-python",
   "name": "python",
   "nbconvert_exporter": "python",
   "pygments_lexer": "ipython3",
   "version": "3.11.2"
  }
 },
 "nbformat": 4,
 "nbformat_minor": 5
}
