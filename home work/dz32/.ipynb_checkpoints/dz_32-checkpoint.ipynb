{
 "cells": [
  {
   "cell_type": "markdown",
   "id": "72a0d688",
   "metadata": {},
   "source": [
    "### 1. Створіть датафрейм розміром 15*5, що містить наступні дані:\n",
    "\n",
    "а) ім'я та прізвище студента;\n",
    "\n",
    "б) середній бал;\n",
    "\n",
    "в) оцінка за поточний екзамен;\n",
    "\n",
    "г) кількість спроб здачі поточного екзамену"
   ]
  },
  {
   "cell_type": "code",
   "execution_count": 7,
   "id": "2243b9bd",
   "metadata": {},
   "outputs": [],
   "source": [
    "import pandas as pd"
   ]
  },
  {
   "cell_type": "code",
   "execution_count": 8,
   "id": "8f030f4d",
   "metadata": {},
   "outputs": [
    {
     "name": "stdout",
     "output_type": "stream",
     "text": [
      "                 Name  Avg_Grade  Exam_Grade  Attempts\n",
      "0         Иван Мурзин         90          11         1\n",
      "1   Александр Сафонов         85          12         2\n",
      "2   Вячеслав Трофимов         92          11         1\n",
      "3        Дима Яковлев         88          12         3\n",
      "4       Юлия Сазонова         80          10         1\n",
      "5    Петр Александров         86          12         3\n",
      "6      Данил Журавлёв         85          11         2\n",
      "7           Влад Усов         90          12         1\n",
      "8       Руслан Иванов         96          12         2\n",
      "9     Яна Спиридонова         80          10         2\n",
      "10    Оксана Новикова         92          12         3\n",
      "11     Серега Сафонов         88          11         4\n",
      "12        Петр Пушкин         90          12         2\n",
      "13       Павел Ефимов         85          10         1\n",
      "14  Кристина Хамитова         92          12         2\n"
     ]
    }
   ],
   "source": [
    "data = {\n",
    "    'Name': ['Иван Мурзин', 'Александр Сафонов', 'Вячеслав Трофимов', 'Дима Яковлев', 'Юлия Сазонова', 'Петр Александров',\n",
    "             'Данил Журавлёв', 'Влад Усов', 'Руслан Иванов', 'Яна Спиридонова', 'Оксана Новикова', 'Серега Сафонов',\n",
    "             'Петр Пушкин', 'Павел Ефимов', 'Кристина Хамитова'],\n",
    "    'Avg_Grade': [90, 85, 92, 88, 80, 86, 85, 90, 96, 80, 92, 88, 90, 85, 92],\n",
    "    'Exam_Grade': [11, 12, 11, 12, 10, 12, 11, 12, 12, 10, 12, 11, 12, 10, 12],\n",
    "    'Attempts': [1, 2, 1, 3, 1, 3, 2, 1, 2, 2, 3, 4, 2, 1, 2]\n",
    "}\n",
    "\n",
    "df = pd.DataFrame(data)\n",
    "print(df)"
   ]
  },
  {
   "cell_type": "markdown",
   "id": "3f02a991",
   "metadata": {},
   "source": [
    "### 2. Додайте до датафрейму стовпчик, що містить дані про допуск студента на наступний курс."
   ]
  },
  {
   "cell_type": "code",
   "execution_count": 11,
   "id": "58fef275",
   "metadata": {},
   "outputs": [
    {
     "name": "stdout",
     "output_type": "stream",
     "text": [
      "                 Name  Avg_Grade  Exam_Grade  Attempts  Passed next Year\n",
      "0         Иван Мурзин         90          11         1              True\n",
      "1   Александр Сафонов         85          12         2              True\n",
      "2   Вячеслав Трофимов         92          11         1              True\n",
      "3        Дима Яковлев         88          12         3              True\n",
      "4       Юлия Сазонова         80          10         1              True\n",
      "5    Петр Александров         86          12         3              True\n",
      "6      Данил Журавлёв         85          11         2              True\n",
      "7           Влад Усов         90          12         1              True\n",
      "8       Руслан Иванов         96          12         2              True\n",
      "9     Яна Спиридонова         80          10         2              True\n",
      "10    Оксана Новикова         92          12         3              True\n",
      "11     Серега Сафонов         88          11         4              True\n",
      "12        Петр Пушкин         90          12         2              True\n",
      "13       Павел Ефимов         85          10         1              True\n",
      "14  Кристина Хамитова         92          12         2              True\n"
     ]
    }
   ],
   "source": [
    "df['Passed next Year'] = df['Exam_Grade'] >= 6\n",
    "print(df)"
   ]
  },
  {
   "cell_type": "markdown",
   "id": "db3e4cad",
   "metadata": {},
   "source": [
    "### 3. Виведіть мінімальний, максимальний, середній та медіанний показники середнього балу студентів."
   ]
  },
  {
   "cell_type": "code",
   "execution_count": 12,
   "id": "4071b27b",
   "metadata": {},
   "outputs": [
    {
     "name": "stdout",
     "output_type": "stream",
     "text": [
      "Minimum Avg_Grade: 80\n",
      "Maximum Avg_Grade: 96\n",
      "Mean Avg_Grade: 87.93333333333334\n",
      "Median Avg_Grade: 88.0\n"
     ]
    }
   ],
   "source": [
    "print(\"Minimum Avg_Grade:\", df['Avg_Grade'].min())\n",
    "print(\"Maximum Avg_Grade:\", df['Avg_Grade'].max())\n",
    "print(\"Mean Avg_Grade:\", df['Avg_Grade'].mean())\n",
    "print(\"Median Avg_Grade:\", df['Avg_Grade'].median())"
   ]
  },
  {
   "cell_type": "markdown",
   "id": "7c40e637",
   "metadata": {},
   "source": [
    "### 4. Виведіть кількість студентів, що здали поточний екзамен з першого разу."
   ]
  },
  {
   "cell_type": "code",
   "execution_count": 16,
   "id": "05f2c996",
   "metadata": {},
   "outputs": [
    {
     "name": "stdout",
     "output_type": "stream",
     "text": [
      "Кількість студентів, що здали поточний екзамен з першого разу: 5\n"
     ]
    }
   ],
   "source": [
    "num_passed_first_try = df[(df['Attempts'] == 1) & df['Passed next Year']].shape[0]\n",
    "print(\"Кількість студентів, що здали поточний екзамен з першого разу:\", num_passed_first_try)\n"
   ]
  },
  {
   "cell_type": "markdown",
   "id": "aba81d07",
   "metadata": {},
   "source": [
    "### 5. Збережіть будь-які дані з датафрейму у вигляді серії."
   ]
  },
  {
   "cell_type": "code",
   "execution_count": 17,
   "id": "fdaaf259",
   "metadata": {},
   "outputs": [
    {
     "name": "stdout",
     "output_type": "stream",
     "text": [
      "0     90\n",
      "1     85\n",
      "2     92\n",
      "3     88\n",
      "4     80\n",
      "5     86\n",
      "6     85\n",
      "7     90\n",
      "8     96\n",
      "9     80\n",
      "10    92\n",
      "11    88\n",
      "12    90\n",
      "13    85\n",
      "14    92\n",
      "Name: Avg_Grade, dtype: int64\n"
     ]
    }
   ],
   "source": [
    "avg_grade_series = df['Avg_Grade']\n",
    "print(avg_grade_series)"
   ]
  }
 ],
 "metadata": {
  "kernelspec": {
   "display_name": "Python 3 (ipykernel)",
   "language": "python",
   "name": "python3"
  },
  "language_info": {
   "codemirror_mode": {
    "name": "ipython",
    "version": 3
   },
   "file_extension": ".py",
   "mimetype": "text/x-python",
   "name": "python",
   "nbconvert_exporter": "python",
   "pygments_lexer": "ipython3",
   "version": "3.10.9"
  }
 },
 "nbformat": 4,
 "nbformat_minor": 5
}
