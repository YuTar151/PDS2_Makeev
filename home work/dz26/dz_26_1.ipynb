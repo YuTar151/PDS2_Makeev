{
 "cells": [
  {
   "cell_type": "markdown",
   "source": [
    "Математичне сподівання числа телевізорів, які витримають гарантійний термін:\n",
    "\n",
    "$$M(х) = P(x) \\times N = 0.9 \\times 100 = 90$$"
   ],
   "metadata": {
    "collapsed": false
   }
  },
  {
   "cell_type": "markdown",
   "source": [
    "Дисперсія дорівнює:"
   ],
   "metadata": {
    "collapsed": false
   }
  },
  {
   "cell_type": "markdown",
   "source": [
    "$$D = P(x) \\times (P(x)-1)\\times N = 0.9 \\times 100 \\times 0.1= 9$$\n"
   ],
   "metadata": {
    "collapsed": false
   }
  },
  {
   "cell_type": "markdown",
   "source": [],
   "metadata": {
    "collapsed": false
   }
  },
  {
   "cell_type": "markdown",
   "source": [
    "Оскільки межі інтервала 85 < X < 95 симетричні відносно математичного очікування $$М = 90$$ то для оцінки вірогідності даного випадку можна застосувати нерівність Чебишева:"
   ],
   "metadata": {
    "collapsed": false
   }
  },
  {
   "cell_type": "markdown",
   "source": [
    "$$ P( |X-M(X)|  \\leqslant  \\varepsilon )  \\geqslant 1 - \\frac{D(X)}{\\varepsilon^2}$$"
   ],
   "metadata": {
    "collapsed": false
   }
  },
  {
   "cell_type": "markdown",
   "source": [
    " де $$\\varepsilon = 95-90=90-85=5$$"
   ],
   "metadata": {
    "collapsed": false
   }
  },
  {
   "cell_type": "markdown",
   "source": [
    "Вірогідніть того, що кількість телевізорів, що пройдуть гарантійний термін буде в межах від 85 до 95 дорівнює:"
   ],
   "metadata": {
    "collapsed": false
   }
  },
  {
   "cell_type": "code",
   "execution_count": 8,
   "outputs": [
    {
     "data": {
      "text/plain": "0.64"
     },
     "execution_count": 8,
     "metadata": {},
     "output_type": "execute_result"
    }
   ],
   "source": [
    "1 - 9/5**2"
   ],
   "metadata": {
    "collapsed": false
   }
  },
  {
   "cell_type": "code",
   "execution_count": 7,
   "outputs": [],
   "source": [],
   "metadata": {
    "collapsed": false
   }
  }
 ],
 "metadata": {
  "kernelspec": {
   "display_name": "Python 3",
   "language": "python",
   "name": "python3"
  },
  "language_info": {
   "codemirror_mode": {
    "name": "ipython",
    "version": 2
   },
   "file_extension": ".py",
   "mimetype": "text/x-python",
   "name": "python",
   "nbconvert_exporter": "python",
   "pygments_lexer": "ipython2",
   "version": "2.7.6"
  }
 },
 "nbformat": 4,
 "nbformat_minor": 0
}
