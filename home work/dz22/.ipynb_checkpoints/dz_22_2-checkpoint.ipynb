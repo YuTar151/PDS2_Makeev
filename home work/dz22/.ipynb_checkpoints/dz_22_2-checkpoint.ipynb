{
 "cells": [
  {
   "cell_type": "markdown",
   "id": "436f3ef2",
   "metadata": {},
   "source": [
    "Вирішіть задачу: Протягом 30 днів вересня було 12 дощових, 8 вітряних, 4 холодних, 5 дощових та вітряних,\n",
    "3 дощових та холодних, 2 вітряних та холодних, а один день був дощовий, вітряний та холодний одночасно.\n",
    "Скільки днів у вересні була гарна погода? Роботу виконати у середовищі Jupyter Notebook."
   ]
  },
  {
   "cell_type": "code",
   "execution_count": 7,
   "id": "83ce177e",
   "metadata": {},
   "outputs": [
    {
     "name": "stdout",
     "output_type": "stream",
     "text": [
      "У вересні було не було днів з гарною погодою.\n"
     ]
    }
   ],
   "source": [
    "# Протягом 30 днів вересня було 12 дощових днів\n",
    "rainy_days = 12\n",
    "# Протягом 30 днів вересня було 8 вітряних днів\n",
    "windy_days = 8\n",
    "# Протягом 30 днів вересня було 4 холодних дні\n",
    "cold_days = 4\n",
    "# Протягом 30 днів вересня було 5 дощових та вітряних днів\n",
    "rainy_windy_days = 5\n",
    "# Протягом 30 днів вересня було 3 дощових та холодних дні\n",
    "rainy_cold_days = 3\n",
    "# Протягом 30 днів вересня було 2 вітряних та холодних дні\n",
    "windy_cold_days = 2\n",
    "# Протягом 30 днів вересня було 1 дощовий, вітряний та холодний день\n",
    "all_days = 1\n",
    "\n",
    "# Скільки днів у вересні була гарна погода\n",
    "good_weather_days = 30 - rainy_days - windy_days - cold_days - rainy_windy_days - rainy_cold_days - windy_cold_days - all_days\n",
    "\n",
    "if good_weather_days < 0:\n",
    "    good_weather_days = 0\n",
    "    print(f\"У вересні було не було днів з гарною погодою.\")\n",
    "else:\n",
    "    print(f\"У вересні було {good_weather_days} днів з гарною погодою.\")\n"
   ]
  },
  {
   "cell_type": "code",
   "execution_count": null,
   "id": "ad7f1e5b",
   "metadata": {},
   "outputs": [],
   "source": []
  }
 ],
 "metadata": {
  "kernelspec": {
   "display_name": "Python 3 (ipykernel)",
   "language": "python",
   "name": "python3"
  },
  "language_info": {
   "codemirror_mode": {
    "name": "ipython",
    "version": 3
   },
   "file_extension": ".py",
   "mimetype": "text/x-python",
   "name": "python",
   "nbconvert_exporter": "python",
   "pygments_lexer": "ipython3",
   "version": "3.10.9"
  }
 },
 "nbformat": 4,
 "nbformat_minor": 5
}
