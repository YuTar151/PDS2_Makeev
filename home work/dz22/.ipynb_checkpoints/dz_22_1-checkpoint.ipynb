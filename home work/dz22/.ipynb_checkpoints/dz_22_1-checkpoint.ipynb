{
 "cells": [
  {
   "cell_type": "markdown",
   "id": "465f5898",
   "metadata": {},
   "source": [
    "1. Вирішіть задачу: За підсумками іспитів з 37 студентів відмінну оцінку з математики мали 15 студентів, з фізики 16, з хімії 19, з математики та фізики - 7, з математики та хімії - 9, з фізики та хімії 6, з усіх трьох дисциплін - 4. Скільки студентів отримали хоча б по одній відмінній оцінці? Роботу виконайте у середовищі Jupyter Notebook.\n",
    "\n"
   ]
  },
  {
   "cell_type": "code",
   "execution_count": 1,
   "id": "48c7caf1",
   "metadata": {},
   "outputs": [
    {
     "name": "stdout",
     "output_type": "stream",
     "text": [
      "Студентів, які отримали хоча б по одній відмінній оцінці: 32\n"
     ]
    }
   ],
   "source": [
    "# Відмінну оцінку з математики мали 15 студентів\n",
    "math_students = 15\n",
    "# Відмінну оцінку з фізики мали 16 студентів\n",
    "physics_students = 16\n",
    "# Відмінну оцінку з хімії мали 19 студентів\n",
    "chemistry_students = 19\n",
    "# Відмінну оцінку з математики та фізики мали 7 студентів\n",
    "math_physics_students = 7\n",
    "# Відмінну оцінку з математики та хімії мали 9 студентів\n",
    "math_chemistry_students = 9\n",
    "# Відмінну оцінку з фізики та хімії мали 6 студентів\n",
    "physics_chemistry_students = 6\n",
    "# Відмінну оцінку з усіх трьох дисциплін мали 4 студенти\n",
    "all_subjects_students = 4\n",
    "\n",
    "# Скільки студентів отримали хоча б по одній відмінній оцінці?\n",
    "excellent_students = math_students + physics_students + chemistry_students - math_physics_students - math_chemistry_students - physics_chemistry_students + all_subjects_students\n",
    "\n",
    "print(f\"Студентів, які отримали хоча б по одній відмінній оцінці: {excellent_students}\")\n"
   ]
  }
 ],
 "metadata": {
  "kernelspec": {
   "display_name": "Python 3 (ipykernel)",
   "language": "python",
   "name": "python3"
  },
  "language_info": {
   "codemirror_mode": {
    "name": "ipython",
    "version": 3
   },
   "file_extension": ".py",
   "mimetype": "text/x-python",
   "name": "python",
   "nbconvert_exporter": "python",
   "pygments_lexer": "ipython3",
   "version": "3.10.9"
  }
 },
 "nbformat": 4,
 "nbformat_minor": 5
}
