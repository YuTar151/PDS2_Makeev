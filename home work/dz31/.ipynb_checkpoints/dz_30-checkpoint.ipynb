{
 "cells": [
  {
   "cell_type": "markdown",
   "id": "99146969",
   "metadata": {},
   "source": [
    "1. Створіть датафрейм розміром 15*5, що містить наступні дані:\n",
    "* ім'я та прізвище студента;\n",
    "* середній бал;\n",
    "* оцінка за поточний екзамен;"
   ]
  },
  {
   "cell_type": "code",
   "execution_count": 6,
   "id": "9f61d4ce",
   "metadata": {},
   "outputs": [],
   "source": [
    "import pandas as pd"
   ]
  },
  {
   "cell_type": "code",
   "execution_count": 7,
   "id": "4d1b411e",
   "metadata": {},
   "outputs": [],
   "source": [
    "data = {\n",
    "    'Name': ['John Smith', 'Jane Doe', 'Bob Johnson', 'Emily Davis', 'Michael Brown',\n",
    "             'Emily Wilson', 'Jacob Thompson', 'Isabella Taylor', 'Ethan Anderson', 'Sofia Rodriguez',\n",
    "             'Mia Lopez', 'Luke Martinez', 'Madison Perez', 'Aiden Garcia', 'Avery Martinez'],\n",
    "    'Avg_Grade': [90, 85, 92, 88, 80, 86, 85, 90, 96, 80, 92, 88, 90, 85, 92],\n",
    "    'Exam_Grade': [11, 12, 11, 12, 10, 12, 11, 12, 12, 10, 12, 11, 12, 10, 12]\n",
    "}\n",
    "\n",
    "df = pd.DataFrame(data)"
   ]
  }
 ],
 "metadata": {
  "kernelspec": {
   "display_name": "Python 3 (ipykernel)",
   "language": "python",
   "name": "python3"
  },
  "language_info": {
   "codemirror_mode": {
    "name": "ipython",
    "version": 3
   },
   "file_extension": ".py",
   "mimetype": "text/x-python",
   "name": "python",
   "nbconvert_exporter": "python",
   "pygments_lexer": "ipython3",
   "version": "3.10.9"
  }
 },
 "nbformat": 4,
 "nbformat_minor": 5
}
